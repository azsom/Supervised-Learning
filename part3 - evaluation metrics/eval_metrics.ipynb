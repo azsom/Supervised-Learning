{
 "cells": [
  {
   "cell_type": "markdown",
   "metadata": {
    "slideshow": {
     "slide_type": "slide"
    }
   },
   "source": [
    "# <center>Welcome to Supervised Learning</center>\n",
    "## <center>Part 3: Evaluation metrics in supervised machine learning</center>\n",
    "## <center>Instructor: Andras Zsom</center>\n",
    "### <center>https://github.com/azsom/Supervised-Learning<center>"
   ]
  },
  {
   "cell_type": "markdown",
   "metadata": {},
   "source": [
    "## The topic of the course series: supervised Machine Learning (ML)\n",
    "- how to build an ML pipeline from beginning to deployment\n",
    "- we assume you already performed data cleaning\n",
    "- this is the first course out of 6 courses\n",
    "    - Part 1: Introduction to machine learning and the bias-variance tradeoff\n",
    "    - Part 2: How to prepare your data for supervised machine learning\n",
    "    - **Part 3: Evaluation metrics in supervised machine learning**\n",
    "    - Part 4: Non-linear supervised machine learning algorithms\n",
    "    - Part 5: Missing data in supervised ML\n",
    "    - Part 6: Interpretability\n",
    "- you can complete the courses in sequence or complete individual courses based on your interest"
   ]
  },
  {
   "cell_type": "markdown",
   "metadata": {},
   "source": [
    "### Structured data\n",
    "| X|feature_1|feature_2|...|feature_j|...|feature_m|<font color='red'>Y</font>|\n",
    "|-|:-:|:-:|:-:|:-:|:-:|:-:|:-:|\n",
    "|__data_point_1__|x_11|x_12|...|x_1j|...|x_1m|__<font color='red'>y_1</font>__|\n",
    "|__data_point_2__|x_21|x_22|...|x_2j|...|x_2m|__<font color='red'>y_2</font>__|\n",
    "|__...__|...|...|...|...|...|...|__<font color='red'>...</font>__|\n",
    "|__data_point_i__|x_i1|x_i2|...|x_ij|...|x_im|__<font color='red'>y_i</font>__|\n",
    "|__...__|...|...|...|...|...|...|__<font color='red'>...</font>__|\n",
    "|__data_point_n__|x_n1|x_n2|...|x_nj|...|x_nm|__<font color='red'>y_n</font>__|\n",
    "\n",
    "We focus on the target variable (y) in this course."
   ]
  },
  {
   "cell_type": "markdown",
   "metadata": {
    "slideshow": {
     "slide_type": "slide"
    }
   },
   "source": [
    "### Learning objectives of this course\n",
    "- Describe the elements of the confusion matrix\n",
    "- Describe metrics derived from the confusion matrix such as accuracy, precision, recall, and the f_beta score\n",
    "- Summarize what the ROC and precision-recall curves and AUC are\n",
    "- Review the logloss metric and its properties\n",
    "- Outline metrics often used in regression (MSE, RMSE, MAE, R2 score)\n",
    "- Calculate the value of each metric given a set’s target variable and predictions from an ML model\n",
    "- Calculate the baseline of each metric given a set’s target variable\n",
    "- Choose an appropriate evaluation metric given your ML problem\n"
   ]
  },
  {
   "cell_type": "markdown",
   "metadata": {
    "slideshow": {
     "slide_type": "slide"
    }
   },
   "source": [
    "# Module 1: Hard predictions in classification\n",
    "### Learning objectives of this module:\n",
    "- Describe the elements of the confusion matrix\n",
    "- Describe metrics derived from the confusion matrix such as accuracy, precision, recall, and the f_beta score\n",
    "- Calculate the value of each metric given a set’s target variable and predictions from an ML model\n",
    "- Calculate the baseline of each metric given a set’s target variable"
   ]
  },
  {
   "cell_type": "markdown",
   "metadata": {
    "slideshow": {
     "slide_type": "subslide"
    }
   },
   "source": [
    "## Let's start\n",
    "- decide what metric we will use to evaluate the supervised ML model \n",
    "   - this is necessary even before we train the model\n",
    "   - we need to know what single number metric we will use to compare models and to select the best one\n",
    "- sklearn classifiers have two methods to return predictions\n",
    "   - .predict_proba which returns the probability that the point belongs to each class with shape (n_samples, n_classes)\n",
    "   - .predict which returns the predicted class for each point with shape (n_samples)"
   ]
  },
  {
   "cell_type": "markdown",
   "metadata": {
    "slideshow": {
     "slide_type": "subslide"
    }
   },
   "source": [
    "### .predict_proba vs. .predict\n",
    "\n",
    "`y_true = [1 0 1 1 0] # the true labels`\n",
    "\n",
    "`pred_probs = \n",
    "[[0.02796171 0.97203829]\n",
    " [0.89682444 0.10317556]\n",
    " [0.50104129 0.49895871]\n",
    " [0.13713222 0.86286778]\n",
    " [0.95707434 0.04292566]] # predicted probabilities show the model's confidence`\n",
    " \n",
    " `y_pred = [1 0 0 1 0] # predicted class`\n",
    " - pred_probs\n",
    "    - first column is the probability that the point belongs to class 0\n",
    "    - second column is the probability that the point belings to class 1\n",
    "    - the rows sum to 1\n",
    " - y_pred\n",
    "    - 0 if class 0 probability is equal or larger than 50% (or equivalently if class 1 probability is less than 50%)\n",
    "    - 1 if class 0 probability is less than 50% (or equivalently of class 1 probability is equal or larger than 50%)"
   ]
  },
  {
   "cell_type": "markdown",
   "metadata": {
    "slideshow": {
     "slide_type": "subslide"
    }
   },
   "source": [
    "### How to transform predicted probabilities to predicted class?"
   ]
  },
  {
   "cell_type": "code",
   "execution_count": 14,
   "metadata": {
    "slideshow": {
     "slide_type": "-"
    }
   },
   "outputs": [
    {
     "name": "stdout",
     "output_type": "stream",
     "text": [
      "[0 0 1 0 1 1 0 1 0 1]\n",
      "[0 1 1 0 0 1 0 0 0 1]\n"
     ]
    }
   ],
   "source": [
    "import numpy as np\n",
    "y_true = np.array([0,0,1,0,1,1,0,1,0,1]) # the true classification labels of the dataset\n",
    "# pred_probs_class1 is the second column of pred_probs\n",
    "pred_probs_class1 = np.array([0.3, 0.7,  0.55, 0.12, 0.45, 0.89, 0.41, 0.02, 0.29, 0.85])\n",
    "p_crit =  0.5\n",
    "\n",
    "# If predicted probability is < p_crit (by default 0.5), predicted class is 0, otherwise it is 1.\n",
    "y_pred = np.zeros(len(pred_probs_class1),dtype=int)\n",
    "y_pred[pred_probs_class1 < p_crit] = 0\n",
    "y_pred[pred_probs_class1 >= p_crit] = 1\n",
    "\n",
    "print(y_true)\n",
    "print(y_pred) # the predicted classification labels"
   ]
  },
  {
   "cell_type": "markdown",
   "metadata": {
    "slideshow": {
     "slide_type": "subslide"
    }
   },
   "source": [
    "For now, we focus on evaluation metrics applicable to predicted classes!\n",
    "\n",
    "We work with y_true and y_pred arrays.\n",
    "\n",
    "We will work with metrics applicable to pred_probs in module 2 and regression metrics in module 3."
   ]
  },
  {
   "cell_type": "markdown",
   "metadata": {
    "slideshow": {
     "slide_type": "subslide"
    }
   },
   "source": [
    "## The confusion matrix\n",
    "\n",
    "`y_true = [0, 0, 1, 0, 1, 1, 0, 1, 0, 1] # the true classification labels of the dataset`\n",
    "\n",
    "`y_pred = [0, 1, 1, 0, 0, 1, 0, 0, 0, 1] # the predicted classification labels`\n",
    "\n",
    "Let's count how many points we have in four categories:\n",
    "\n",
    "- true label is 0, predicted label is 0 - **True Negatives**\n",
    "- true label is 1, predicted label is 1 - **True Positives**\n",
    "- true label is 0, predicted label is 1 - **False Positive**\n",
    "- true label is 1, predicted label is 0 - **False Negative**\n",
    "\n",
    "Generally, the confusion matrix $C$ is such that $C_{i,j}$ is equal to the number of observations known to be in group $i$ but predicted to be in group $j$."
   ]
  },
  {
   "cell_type": "markdown",
   "metadata": {
    "slideshow": {
     "slide_type": "subslide"
    }
   },
   "source": [
    "## Back to our example:\n",
    "\n",
    "`y_true = [0, 0, 1, 0, 1, 1, 0, 1, 0, 1] # the true classification labels of the dataset`\n",
    "\n",
    "`y_pred = [0, 1, 1, 0, 0, 1, 0, 0, 0, 1] # the predicted classification labels`\n",
    "\n",
    "\n",
    "<table>\n",
    "    <tr>\n",
    "        <td colspan=\"2\" rowspan=\"2\"></td>\n",
    "        <td colspan=\"2\">Predicted class</td>\t\t\t\n",
    "    </tr>\n",
    "    <tr>\n",
    "        <td>Predicted Negative (0)</td>\n",
    "        <td>Predicted Positive (1)</td>\n",
    "    </tr>\n",
    "    <tr>\n",
    "        <td rowspan=\"2\">Actual class</td>\n",
    "        <td>Condition Negative (0)</td>\n",
    "        <td><b>True Negative (TN): 4</b></td>\n",
    "        <td><b>False Positive (FP): 1</b></td>\n",
    "    </tr>\n",
    "    <tr>\n",
    "        <td>Condition Positive (1)</td>\n",
    "        <td><b>False Negative (FN): 2</b></td>\n",
    "        <td><b>True Positive (TP): 3</b></td>\n",
    "    </tr>\n",
    "</table>\n"
   ]
  },
  {
   "cell_type": "markdown",
   "metadata": {
    "slideshow": {
     "slide_type": "subslide"
    }
   },
   "source": [
    "## In sklearn"
   ]
  },
  {
   "cell_type": "code",
   "execution_count": 3,
   "metadata": {},
   "outputs": [
    {
     "name": "stdout",
     "output_type": "stream",
     "text": [
      "[[4 1]\n",
      " [2 3]]\n"
     ]
    }
   ],
   "source": [
    "from sklearn.metrics import confusion_matrix\n",
    "\n",
    "y_true = [0,0,1,0,1,1,0,1,0,1]\n",
    "y_pred = [0,1,1,0,0,1,0,0,0,1]\n",
    "print(confusion_matrix(y_true,y_pred))"
   ]
  },
  {
   "cell_type": "code",
   "execution_count": 4,
   "metadata": {
    "slideshow": {
     "slide_type": "skip"
    }
   },
   "outputs": [],
   "source": [
    "# https://scikit-learn.org/stable/modules/generated/sklearn.metrics.plot_confusion_matrix.html\n",
    "# the function above requires a trained classifier, a feature matrix, and a true target variable\n",
    "# the function below in this cell requires the true and predicted target variable\n",
    "import numpy as np\n",
    "import matplotlib.pyplot as plt\n",
    "from sklearn.utils.multiclass import unique_labels\n",
    "\n",
    "def plot_confusion_matrix(y_true, y_pred, classes,\n",
    "                          normalize=False,\n",
    "                          title=None,\n",
    "                          cmap=plt.cm.Blues):\n",
    "    \"\"\"\n",
    "    This function prints and plots the confusion matrix.\n",
    "    Normalization can be applied by setting `normalize=True`.\n",
    "    \"\"\"\n",
    "    if not title:\n",
    "        if normalize:\n",
    "            title = 'Normalized confusion matrix'\n",
    "        else:\n",
    "            title = 'Confusion matrix, without normalization'\n",
    "\n",
    "    # Compute confusion matrix\n",
    "    cm = confusion_matrix(y_true, y_pred)\n",
    "    # Only use the labels that appear in the data\n",
    "    classes = np.array(classes)\n",
    "    classes = classes[unique_labels(y_true, y_pred)]\n",
    "    if normalize:\n",
    "        cm = cm.astype('float') / cm.sum(axis=1)[:, np.newaxis]\n",
    "        \n",
    "    fig, ax = plt.subplots()\n",
    "    im = ax.imshow(cm, interpolation='nearest', cmap=cmap)\n",
    "    ax.figure.colorbar(im, ax=ax)\n",
    "    # We want to show all ticks...\n",
    "    ax.set(xticks=np.arange(cm.shape[1]),\n",
    "           yticks=np.arange(cm.shape[0]),\n",
    "           # ... and label them with the respective list entries\n",
    "           xticklabels=classes, yticklabels=classes,\n",
    "           title=title,\n",
    "           ylabel='True label',\n",
    "           xlabel='Predicted label')\n",
    "\n",
    "    # Rotate the tick labels and set their alignment.\n",
    "    plt.setp(ax.get_xticklabels(), rotation=45, ha=\"right\",\n",
    "             rotation_mode=\"anchor\")\n",
    "\n",
    "    # Loop over data dimensions and create text annotations.\n",
    "    fmt = '.2f' if normalize else 'd'\n",
    "    thresh = cm.max() / 2.\n",
    "    for i in range(cm.shape[0]):\n",
    "        for j in range(cm.shape[1]):\n",
    "            ax.text(j, i, format(cm[i, j], fmt),\n",
    "                    ha=\"center\", va=\"center\",\n",
    "                    color=\"white\" if cm[i, j] > thresh else \"black\")\n",
    "    fig.tight_layout()\n",
    "    return ax\n"
   ]
  },
  {
   "cell_type": "code",
   "execution_count": 5,
   "metadata": {
    "slideshow": {
     "slide_type": "subslide"
    }
   },
   "outputs": [
    {
     "data": {
      "image/png": "[encoded data removed]",
      "text/plain": [
       "<Figure size 432x288 with 2 Axes>"
      ]
     },
     "metadata": {
      "needs_background": "light"
     },
     "output_type": "display_data"
    }
   ],
   "source": [
    "plot_confusion_matrix(y_true,y_pred,classes=['class 0','class 1'])\n",
    "plt.show()"
   ]
  },
  {
   "cell_type": "markdown",
   "metadata": {
    "slideshow": {
     "slide_type": "slide"
    }
   },
   "source": [
    "## Metrics derived from $C$\n",
    "$C$ contains $n_{classes}^2$ elements but we need a single number metric to easily compare various models.\n",
    "\n",
    "For two classes:\n",
    "\n",
    "\n",
    "<table>\n",
    "    <tr>\n",
    "        <td colspan=\"2\" rowspan=\"2\"></td>\n",
    "        <td colspan=\"2\">Predicted class</td>\t\t\t\n",
    "    </tr>\n",
    "    <tr>\n",
    "        <td>Predicted Negative (0)</td>\n",
    "        <td>Predicted Positive (1)</td>\n",
    "    </tr>\n",
    "    <tr>\n",
    "        <td rowspan=\"2\">Actual class</td>\n",
    "        <td>Condition Negative (0)</td>\n",
    "        <td><b>True Negative (TN)</b></td>\n",
    "        <td><b>False Positive (FP)</b></td>\n",
    "    </tr>\n",
    "    <tr>\n",
    "        <td>Condition Positive (1)</td>\n",
    "        <td><b>False Negative (FN)</b></td>\n",
    "        <td><b>True Positive (TP)</b></td>\n",
    "    </tr>\n",
    "</table>\n",
    "\n",
    "\n",
    "Some single number metrics derived from $C$:\n",
    "- accuracy: fraction of data points correctly classified\n",
    "   - $a = \\sum_i C_{i,i} / \\sum C$ = (TP + TN) / (TP + TN + FP + FN)\n",
    "- recall: what fraction of the condition positive samples are true positives?\n",
    "   - it measures the ability of the classifier to identify all positive samples\n",
    "   - in binary classification: R = TP / (TP + FN)\n",
    "- precision: what fraction of the predicted positive points are true positives?\n",
    "   - it measures the ability of the classifier to not predict a negative sample to be positive\n",
    "   - in binary classification: P = TP / (TP + FP)"
   ]
  },
  {
   "cell_type": "markdown",
   "metadata": {
    "slideshow": {
     "slide_type": "subslide"
    }
   },
   "source": [
    "<table>\n",
    "    <tr>\n",
    "        <td colspan=\"2\" rowspan=\"2\"></td>\n",
    "        <td colspan=\"2\">Predicted class</td>\t\t\t\n",
    "    </tr>\n",
    "    <tr>\n",
    "        <td>Predicted Negative (0)</td>\n",
    "        <td>Predicted Positive (1)</td>\n",
    "    </tr>\n",
    "    <tr>\n",
    "        <td rowspan=\"2\">Actual class</td>\n",
    "        <td>Condition Negative (0)</td>\n",
    "        <td><b>True Negative (TN)</b></td>\n",
    "        <td><b>False Positive (FP)</b></td>\n",
    "    </tr>\n",
    "    <tr>\n",
    "        <td>Condition Positive (1)</td>\n",
    "        <td><b>False Negative (FN)</b></td>\n",
    "        <td><b>True Positive (TP)</b></td>\n",
    "    </tr>\n",
    "</table>\n",
    "\n",
    "A = (TP + TN) / (TP + TN + FP + FN) \n",
    "\n",
    "R = TP / (TP + FN) = TP / CP\n",
    "\n",
    "P = TP / (TP + FP) = TP / PP"
   ]
  },
  {
   "cell_type": "markdown",
   "metadata": {
    "slideshow": {
     "slide_type": "subslide"
    }
   },
   "source": [
    "### The f_beta score\n",
    "Weighted harmonic mean of P and R:\n",
    "### <center> $f_{\\beta} = (1 + \\beta^2) \\frac{P R}{\\beta^2 P + R}$ </center>\n",
    "\n",
    "If $\\beta = 1$, we have the f1 score:\n",
    "### <center> $f_{1} = 2 \\frac{P R}{P + R}$ </center>\n",
    "\n",
    "If $\\beta < 1$, more weight to precision.\n",
    "\n",
    "If $\\beta > 1$, more weight to recall.\n",
    "\n"
   ]
  },
  {
   "cell_type": "markdown",
   "metadata": {
    "slideshow": {
     "slide_type": "subslide"
    }
   },
   "source": [
    "### The scores are a function of p_crit"
   ]
  },
  {
   "cell_type": "code",
   "execution_count": 18,
   "metadata": {
    "slideshow": {
     "slide_type": "-"
    }
   },
   "outputs": [
    {
     "name": "stdout",
     "output_type": "stream",
     "text": [
      "[0 0 1 0 1 1 0 1 0 1]\n",
      "[0 1 1 0 0 1 0 0 0 1]\n",
      "accuracy 0.7\n",
      "recall 0.6\n",
      "precision 0.75\n",
      "f1 0.6666666666666665\n"
     ]
    }
   ],
   "source": [
    "from sklearn.metrics import precision_score, recall_score, accuracy_score, fbeta_score\n",
    "\n",
    "y_true = np.array([0,0,1,0,1,1,0,1,0,1]) # the true classification labels of the dataset\n",
    "y_pred_proba = np.array([0.3, 0.7,  0.55, 0.12, 0.45, 0.89, 0.41, 0.02, 0.29, 0.85])\n",
    "\n",
    "p_crit = 0.5\n",
    "\n",
    "y_pred = np.zeros(len(y_pred_proba),dtype=int)\n",
    "y_pred[y_pred_proba < p_crit] = 0\n",
    "y_pred[y_pred_proba >= p_crit] = 1\n",
    "\n",
    "print(y_true)\n",
    "print(y_pred) # the predicted classification labels\n",
    "print('accuracy',accuracy_score(y_true,y_pred))\n",
    "print('recall',recall_score(y_true,y_pred))\n",
    "print('precision',precision_score(y_true,y_pred))\n",
    "print('f1',fbeta_score(y_true,y_pred,1))"
   ]
  },
  {
   "cell_type": "markdown",
   "metadata": {
    "slideshow": {
     "slide_type": "slide"
    }
   },
   "source": [
    "# Module 2: Working with predicted probabilities in classification\n",
    "### Learning objectives of this module:\n",
    "- Summarize what the ROC and precision-recall curves and AUC are\n",
    "- Review the logloss metric and its properties\n",
    "- Calculate the value of each metric given a set’s target variable and predictions from an ML model\n",
    "- Calculate the baseline of each metric given a set’s target variable\n",
    "- Choose an appropriate evaluation metric given your ML problem"
   ]
  },
  {
   "cell_type": "markdown",
   "metadata": {
    "slideshow": {
     "slide_type": "slide"
    }
   },
   "source": [
    "### The ROC curve\n",
    "- Receiver Operating Characteristic\n",
    "   - x axis: false positive rate (fpr = FP / (FP + TN))\n",
    "   - y axis: true positive rate (R = TP / (TP + FN))\n",
    "   - the curve shows fpr and R value pairs for various class 1 critical probabilities\n",
    "- upper left corner: perfect predictor\n",
    "- diagonal point: chance level predictions\n",
    "- lower right corner: worst predictor"
   ]
  },
  {
   "cell_type": "code",
   "execution_count": 1,
   "metadata": {
    "slideshow": {
     "slide_type": "subslide"
    }
   },
   "outputs": [],
   "source": [
    "import pandas as pd\n",
    "import matplotlib.pyplot as plt\n",
    "import numpy as np\n",
    "from sklearn.metrics import confusion_matrix\n",
    "df = pd.read_csv('data/true_labels_pred_probs.csv')\n",
    "\n",
    "y_true = df['y_true']\n",
    "pred_prob_class1 = df['pred_prob_class1']\n",
    "\n",
    "fpr = np.zeros(len(y_true))\n",
    "tpr = np.zeros(len(y_true))\n",
    "\n",
    "p_crits = np.sort(pred_prob_class1) # the sorted predicted probabilities serve as critical probabilities\n",
    "\n",
    "for i in range(len(p_crits)):\n",
    "    p_crit = p_crits[i]\n",
    "    \n",
    "    y_pred = np.zeros(len(y_true))\n",
    "    y_pred[pred_prob_class1 < p_crit] = 0\n",
    "    y_pred[pred_prob_class1 >= p_crit] = 1\n",
    "    \n",
    "    C = confusion_matrix(y_true,y_pred) \n",
    "    \n",
    "    tpr[i] = C[1,1]/(C[1,0]+C[1,1])\n",
    "    fpr[i] = C[0,1]/(C[0,0]+C[0,1])\n",
    "\n",
    "# from sklearn.metrics import roc_curve\n",
    "# # the roc_curve function performs the same calculation\n",
    "# fpr,tpr,p_crits = roc_curve(y_true,pred_prob_class1)"
   ]
  },
  {
   "cell_type": "code",
   "execution_count": 2,
   "metadata": {
    "slideshow": {
     "slide_type": "subslide"
    }
   },
   "outputs": [
    {
     "data": {
      "image/png": "[encoded data removed]",
      "text/plain": [
       "<Figure size 432x288 with 1 Axes>"
      ]
     },
     "metadata": {
      "needs_background": "light"
     },
     "output_type": "display_data"
    }
   ],
   "source": [
    "plt.plot(fpr,tpr)\n",
    "plt.xlabel('fpr')\n",
    "plt.ylabel('tpr')\n",
    "plt.title('ROC curve')\n",
    "plt.show()"
   ]
  },
  {
   "cell_type": "markdown",
   "metadata": {
    "slideshow": {
     "slide_type": "slide"
    }
   },
   "source": [
    "## ROC AUC\n",
    "- ROC is useful but it is not a single number metric\n",
    "   - it cannot be directly used to compare various classification models\n",
    "- summary statistics based on the ROC curve (for a complete list, see [here](https://en.wikipedia.org/wiki/Receiver_operating_characteristic#Further_interpretations))\n",
    "- most commonly used metric is ROC AUC - ROC Area Under the Curve\n",
    "   - AUC = 1 is a perfect classifier\n",
    "   - AUC > 0.5 is above chance-level predictor\n",
    "   - AUC = 0.5 is a chance-level classifier\n",
    "   - AUC < 0.5 is a bad predictor\n",
    "   - AUC = 0 classifies all points incorrectly"
   ]
  },
  {
   "cell_type": "code",
   "execution_count": 4,
   "metadata": {},
   "outputs": [
    {
     "name": "stdout",
     "output_type": "stream",
     "text": [
      "0.9236524315231854\n"
     ]
    }
   ],
   "source": [
    "from sklearn.metrics import roc_auc_score\n",
    "print(roc_auc_score(y_true,pred_prob_class1))"
   ]
  },
  {
   "cell_type": "markdown",
   "metadata": {
    "slideshow": {
     "slide_type": "slide"
    }
   },
   "source": [
    "## Precision-recall curve\n",
    "- the drawback of ROC is that it uses TN, not good for imbalanced problems.\n",
    "- the precision-recall curve doesn't use TN, ideal for imbalanced problems."
   ]
  },
  {
   "cell_type": "code",
   "execution_count": 5,
   "metadata": {},
   "outputs": [
    {
     "name": "stdout",
     "output_type": "stream",
     "text": [
      "0.9315588971251673\n"
     ]
    }
   ],
   "source": [
    "from sklearn.metrics import precision_recall_curve\n",
    "from sklearn.metrics import average_precision_score # the AUC of the P-R curve\n",
    "\n",
    "p,r,p_crits = precision_recall_curve(y_true,pred_prob_class1)\n",
    "\n",
    "print(average_precision_score(y_true,pred_prob_class1))"
   ]
  },
  {
   "cell_type": "code",
   "execution_count": 6,
   "metadata": {
    "slideshow": {
     "slide_type": "subslide"
    }
   },
   "outputs": [
    {
     "data": {
      "image/png": "[encoded data removed]",
      "text/plain": [
       "<Figure size 432x288 with 1 Axes>"
      ]
     },
     "metadata": {
      "needs_background": "light"
     },
     "output_type": "display_data"
    }
   ],
   "source": [
    "plt.plot(p,r)\n",
    "plt.xlabel('precision')\n",
    "plt.ylabel('recall')\n",
    "plt.title('P-R curve')\n",
    "plt.show()\n"
   ]
  },
  {
   "cell_type": "markdown",
   "metadata": {
    "slideshow": {
     "slide_type": "slide"
    }
   },
   "source": [
    "## The logloss metric\n",
    "\n",
    "### <center>$logloss = - \\frac{1}{N}\\sum (y_{true}\\ln(p_{pred}) + (1-y_{true})(1-\\ln(1-p_{pred})))$</center>\n",
    "- $p_{pred}$ is the predicted probability of the **positive class**\n",
    "- the predicted probabilities are not converted into predicted classes\n",
    "- excellent choice if you need accurate probabilities (e.g., when it is expensive/costly to act due to limited resources so you need to rank your points based on probabilities)\n",
    "- two scenarios:\n",
    "   - y_true = 0 - left term disappears\n",
    "   - y_true = 1 - right term disappears\n",
    "- log(0) is undefined\n",
    "   - $p_{pred}$ is replaced with $\\max(\\min(p,1-10^{-15}),10^{-15})$ to avoid this issue"
   ]
  },
  {
   "cell_type": "markdown",
   "metadata": {
    "slideshow": {
     "slide_type": "subslide"
    }
   },
   "source": [
    "### The extreme cases\n",
    "- the classifier is confidently wrong\n",
    "   - $p_{pred} = 10^{-15}$ for points in class 1\n",
    "   - $p_{pred} = 1 - 10^{-15}$ for points in class 0\n",
    "<center>$logloss = -\\frac{1}{N}\\sum \\ln(10^{-15}) = -\\ln(10^{-15})$</center>\n",
    "<center> $logloss \\sim  34.5  $</center>\n",
    "\n",
    "- the classifier is correct\n",
    "   - $p_{pred} = 10^{-15}$ for points in class 0\n",
    "   - $p_{pred} = 1 - 10^{-15}$ for points in class 1\n",
    "<center>$logloss = -\\frac{1}{N}\\sum (1-0)(1-\\ln(1-10^{-15})) = 10^{-15}$ for class 0</center>\n",
    "<center>$logloss = -\\frac{1}{N}\\sum 1*\\ln(1-10^{-15}) = 10^{-15}$ for class 1</center>\n",
    "<center>$logloss \\sim 0$</center>\n",
    "\n"
   ]
  },
  {
   "cell_type": "code",
   "execution_count": 8,
   "metadata": {
    "slideshow": {
     "slide_type": "subslide"
    }
   },
   "outputs": [
    {
     "name": "stdout",
     "output_type": "stream",
     "text": [
      "0.35015190545328556\n",
      "Help on function log_loss in module sklearn.metrics._classification:\n",
      "\n",
      "log_loss(y_true, y_pred, *, eps=1e-15, normalize=True, sample_weight=None, labels=None)\n",
      "    Log loss, aka logistic loss or cross-entropy loss.\n",
      "    \n",
      "    This is the loss function used in (multinomial) logistic regression\n",
      "    and extensions of it such as neural networks, defined as the negative\n",
      "    log-likelihood of a logistic model that returns ``y_pred`` probabilities\n",
      "    for its training data ``y_true``.\n",
      "    The log loss is only defined for two or more labels.\n",
      "    For a single sample with true label yt in {0,1} and\n",
      "    estimated probability yp that yt = 1, the log loss is\n",
      "    \n",
      "        -log P(yt|yp) = -(yt log(yp) + (1 - yt) log(1 - yp))\n",
      "    \n",
      "    Read more in the :ref:`User Guide <log_loss>`.\n",
      "    \n",
      "    Parameters\n",
      "    ----------\n",
      "    y_true : array-like or label indicator matrix\n",
      "        Ground truth (correct) labels for n_samples samples.\n",
      "    \n",
      "    y_pred : array-like of float, shape = (n_samples, n_classes) or (n_samples,)\n",
      "        Predicted probabilities, as returned by a classifier's\n",
      "        predict_proba method. If ``y_pred.shape = (n_samples,)``\n",
      "        the probabilities provided are assumed to be that of the\n",
      "        positive class. The labels in ``y_pred`` are assumed to be\n",
      "        ordered alphabetically, as done by\n",
      "        :class:`preprocessing.LabelBinarizer`.\n",
      "    \n",
      "    eps : float\n",
      "        Log loss is undefined for p=0 or p=1, so probabilities are\n",
      "        clipped to max(eps, min(1 - eps, p)).\n",
      "    \n",
      "    normalize : bool, optional (default=True)\n",
      "        If true, return the mean loss per sample.\n",
      "        Otherwise, return the sum of the per-sample losses.\n",
      "    \n",
      "    sample_weight : array-like of shape (n_samples,), default=None\n",
      "        Sample weights.\n",
      "    \n",
      "    labels : array-like, optional (default=None)\n",
      "        If not provided, labels will be inferred from y_true. If ``labels``\n",
      "        is ``None`` and ``y_pred`` has shape (n_samples,) the labels are\n",
      "        assumed to be binary and are inferred from ``y_true``.\n",
      "    \n",
      "        .. versionadded:: 0.18\n",
      "    \n",
      "    Returns\n",
      "    -------\n",
      "    loss : float\n",
      "    \n",
      "    Examples\n",
      "    --------\n",
      "    >>> from sklearn.metrics import log_loss\n",
      "    >>> log_loss([\"spam\", \"ham\", \"ham\", \"spam\"],\n",
      "    ...          [[.1, .9], [.9, .1], [.8, .2], [.35, .65]])\n",
      "    0.21616...\n",
      "    \n",
      "    References\n",
      "    ----------\n",
      "    C.M. Bishop (2006). Pattern Recognition and Machine Learning. Springer,\n",
      "    p. 209.\n",
      "    \n",
      "    Notes\n",
      "    -----\n",
      "    The logarithm used is the natural logarithm (base-e).\n",
      "\n"
     ]
    }
   ],
   "source": [
    "from sklearn.metrics import log_loss\n",
    "print(log_loss(y_true,pred_prob_class1))\n",
    "help(log_loss)"
   ]
  },
  {
   "cell_type": "markdown",
   "metadata": {
    "slideshow": {
     "slide_type": "slide"
    }
   },
   "source": [
    "## How should you choose a metric?\n",
    "\n",
    "- What are the terms in the confusion matrix that you most (or least) care about?\n",
    "    - In an imbalanced dataset, TNs are large so you should use a metric that doesn't include TN\n",
    "    - no accuracy\n",
    "    - f score is usually preferred if your dataset is imbalanced\n",
    "- Will we act (intervene/apply treatment) on the model's prediction?\n",
    "    - Is it cheap to act? (e.g., mass email)\n",
    "       - we want to capture the largest fraction of the condition positive samples even if FPs will be large as a result\n",
    "       - recall or fbeta with beta > 1 (f1.5 or f2 are often used)\n",
    "    - Is it expensive to act? Do we have limited resources? Or treatment/action is costly?\n",
    "       - we want to make sure that the resources are allocated the best way possible\n",
    "       - want to make sure that a large fraction of the predicted positives are  true positives\n",
    "       - precision or fbeta with beta < 1 (f0.5 is often used)"
   ]
  },
  {
   "cell_type": "markdown",
   "metadata": {
    "slideshow": {
     "slide_type": "slide"
    }
   },
   "source": [
    "# Module 3: Regression metrics\n",
    "### Learning objectives of this module:\n",
    "- Outline metrics often used in regression (MSE, RMSE, MAE, R2 score)\n",
    "- Calculate the value of each metric given a set’s target variable and predictions from an ML model\n",
    "- Calculate the baseline of each metric given a set’s target variable\n",
    "- Choose an appropriate evaluation metric given your ML problem"
   ]
  },
  {
   "cell_type": "markdown",
   "metadata": {
    "slideshow": {
     "slide_type": "subslide"
    }
   },
   "source": [
    "## Regression metrics\n",
    "- the target variable is continuous\n",
    "- the predicted values are also continuous\n",
    "- regression metrics measure some type of difference between y (true values) and y' (predicted values)"
   ]
  },
  {
   "cell_type": "markdown",
   "metadata": {
    "slideshow": {
     "slide_type": "subslide"
    }
   },
   "source": [
    "### Mean Squared Error \n",
    "\n",
    "### <center>$MSE(y,y') = \\frac{1}{n}\\sum_{i=1}^{n}(y_i-y_i')^2$</center>\n",
    "\n",
    "#### The unit of MSE is not the same as the target variable."
   ]
  },
  {
   "cell_type": "markdown",
   "metadata": {
    "slideshow": {
     "slide_type": "subslide"
    }
   },
   "source": [
    "### Root Mean Square Error\n",
    "\n",
    "### <center>$RMSE(y,y') = \\sqrt{\\frac{1}{n}\\sum_{i=1}^{n}(y_i-y_i')^2}$</center>\n",
    "\n",
    "\n",
    "### Mean Absolute Error\n",
    "\n",
    "### <center>$MAE(y,y') = \\frac{1}{n}\\sum_{i=1}^{n}|y_i-y_i'|$</center>\n",
    "\n",
    "#### Both RMSE and MAE have the same unit as the target variable.\n"
   ]
  },
  {
   "cell_type": "markdown",
   "metadata": {
    "slideshow": {
     "slide_type": "subslide"
    }
   },
   "source": [
    "## R2 score - coefficient of determination\n",
    "\n",
    "### <center>$R^2(y,y') = 1 - \\frac{\\sum_{i=1}^{n}(y_i-y_i')^2}{\\sum_{i=1}^{n}(y_i-\\bar{y})^2}$,</center>\n",
    "<center>where $\\bar{y}$ is the mean of $y$.</center>\n",
    "\n",
    "- R2 = 1 is the perfect regression model ($y == y'$)\n",
    "- R2 = 0 is as good as a constant model that always predicts the expected value of y ($\\bar{y}$)\n",
    "- R2 < 0 is a bad regression model\n",
    "\n",
    "#### R2 is dimensionless."
   ]
  },
  {
   "cell_type": "code",
   "execution_count": 9,
   "metadata": {
    "slideshow": {
     "slide_type": "subslide"
    }
   },
   "outputs": [],
   "source": [
    "from sklearn.metrics import mean_squared_error\n",
    "from sklearn.metrics import mean_absolute_error\n",
    "from sklearn.metrics import r2_score"
   ]
  },
  {
   "cell_type": "markdown",
   "metadata": {
    "slideshow": {
     "slide_type": "-"
    }
   },
   "source": [
    "- RMSE is not implemented in sklearn, but you can calculate it as `np.sqrt(mean_squared_error(y_true,y_pred))` or `mean_squared_error(y_true,y_pred, squared = False)`\n",
    "- you can find more on regression metrics [here](https://scikit-learn.org/stable/modules/model_evaluation.html#regression-metrics)"
   ]
  }
 ],
 "metadata": {
  "celltoolbar": "Slideshow",
  "kernelspec": {
   "display_name": "Python 3",
   "language": "python",
   "name": "python3"
  },
  "language_info": {
   "codemirror_mode": {
    "name": "ipython",
    "version": 3
   },
   "file_extension": ".py",
   "mimetype": "text/x-python",
   "name": "python",
   "nbconvert_exporter": "python",
   "pygments_lexer": "ipython3",
   "version": "3.7.6"
  }
 },
 "nbformat": 4,
 "nbformat_minor": 2
}
