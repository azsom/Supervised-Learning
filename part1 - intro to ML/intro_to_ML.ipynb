{
 "cells": [
  {
   "cell_type": "markdown",
   "metadata": {},
   "source": [
    "# <center>Welcome to Supervised Learning</center>\n",
    "## <center>Part 1: Introduction to machine learning and the bias-variance tradeoff</center>\n",
    "## <center>Instructor: Andras Zsom</center>"
   ]
  },
  {
   "cell_type": "markdown",
   "metadata": {},
   "source": [
    "## The topic of the course series: supervised Machine Learning (ML)\n",
    "- how to build an ML pipeline from beginning to deployment\n",
    "- we assume you already performed data cleaning\n",
    "- this is the first course out of 6 courses\n",
    "    - **Part 1: Introduction to machine learning and the bias-variance tradeoff**\n",
    "    - Part 2: How to prepare your data for supervised machine learning\n",
    "    - Part 3: Evaluation metrics in supervised machine learning\n",
    "    - Part 4: SVMs, Random Forests, XGBoost\n",
    "    - Part 5: Missing data in supervised ML\n",
    "    - Part 6: Interpretability\n",
    "- you can complete the courses in sequence or complete individual courses based on your interest"
   ]
  },
  {
   "cell_type": "markdown",
   "metadata": {},
   "source": [
    "## Tools\n",
    "- we use python\n",
    "    - pros: easy to use for a beginner programmer\n",
    "    - cons: it is very difficult to write computationally efficient code\n",
    "    - the divide between users and developers of python packages are wide\n",
    "- packages we use: sklearn, pandas, numpy, matplotlib, XGBoost, SHAP\n",
    "- if you are a python user, you need to know exactly what you are doing\n",
    "    - carefully read the manual, work through the examples, test every line of code you write\n",
    "        - good test of your understanding: could I write the function/method myself if I had to?\n",
    "    - do not assume your code works, always test everything\n",
    "    - there are two types of errors:\n",
    "        - one that gives an error message\n",
    "            - usually easy to fix\n",
    "            - the error message tells you in which line the error occurs\n",
    "            - read and understand the error message\n",
    "            - if it's not obvious what the error is, read more on it on stackoverflow for example\n",
    "        - sneaky errors without error message\n",
    "            - these are tough!\n",
    "            - your code runs and it gives some output but something is off\n",
    "            - just staring at the code won't reveal the bug\n",
    "            - print print print or use a debugger\n",
    "            - check every line of code, trace issues through the code\n",
    "    - to reduce the number of errors/bugs, do test-driven code development\n",
    "        - first think about what the output of a function call/cell/piece of a piece of code should be\n",
    "        - only then write the code\n",
    "        - check if you got the expected output"
   ]
  },
  {
   "cell_type": "markdown",
   "metadata": {},
   "source": [
    "### Learning objectives of this course\n",
    "\n",
    "By the end of the course, you will be able to\n",
    "- describe how a task like spam filtering can be solved with explicit coding instructions vs. a machine learning algorithm that learns from examples (training data),\n",
    "- summarize the similarities and differences between supervised and unsupervised ML,\n",
    "- list the pros and cons of supervised machine learning,\n",
    "- define the mathematical model behind linear and logistic regression,\n",
    "- explain what the loss function is,\n",
    "- describe the two main types of regularization and why it is important,\n",
    "- perform a simple train/validation/test split on IID data,\n",
    "- apply linear and logistic regression to datasets,\n",
    "- tune the regularization hyperparameter,\n",
    "- identify models with high bias and high variance,\n",
    "- select the best model and measure its performance on a previously unseen dataset, the test set.\n"
   ]
  },
  {
   "cell_type": "markdown",
   "metadata": {},
   "source": [
    "# Module 1: Intro to Machine Learning\n",
    "### Learning objectives of this module:\n",
    "- describe how a task like spam filtering can be solved with explicit coding instructions vs. a machine learning algorithm that learns from examples (training data),\n",
    "- summarize the similarities and differences between supervised and unsupervised ML,\n",
    "- list the pros and cons of supervised machine learning,"
   ]
  },
  {
   "cell_type": "markdown",
   "metadata": {},
   "source": [
    "### Supervised ML\n",
    "\n",
    "- supervised ML is probably the most successful area in ML (based on economic value created)\n",
    "    - **online advertising**: given an ad and user info, will the user click on the ad?\n",
    "    - **real estate**: given home features, can we predict the house price?\n",
    "    - **finance**: given an applicant and a finalcial product (e.g., a loan), will this applicant be able to successfully pay back the loan?\n",
    "    - **health care**: given a patient, symptoms, and maybe test results, can we predict the illness? \n",
    "    - ...\n",
    "- supervised ML pros:\n",
    "    - **automation**: computers perform calculations faster than humans (and computers are cheaper)\n",
    "    - **learn from examples**: no need to explicitly tell the computer what to do. the computer figures out what to do based on examples (data)\n",
    "- supervised ML con:\n",
    "    - it can be difficult or labor-intensive to collect training data\n",
    "    - there is no guarantee that you will be able to develop an accurate model based on the data you have"
   ]
  },
  {
   "cell_type": "markdown",
   "metadata": {},
   "source": [
    "### Example: spam filters\n",
    "- Traditional coding pipeline with explicit instructions\n",
    "\n",
    "<center><img src=\"figures/traditional_pipeline.png\" width=\"600\"></center>"
   ]
  },
  {
   "cell_type": "markdown",
   "metadata": {},
   "source": [
    "### Example: spam filters\n",
    "- ML pipeline\n",
    "\n",
    "<center><img src=\"figures/ML_pipeline.png\" width=\"600\"></center>"
   ]
  },
  {
   "cell_type": "markdown",
   "metadata": {},
   "source": [
    "- the data: feature matrix (X) and target variable (Y)\n",
    "    - X can be structured (tabular data most commonly stored in excel and csv files or SQL databases)\n",
    "    - X can be unstructured (e.g., images, text, voice recording, video)\n",
    "    - Y can be categorical, the problem is **classification** (e.g., click or not click on an ad, sick or not sick)\n",
    "    - Y can be continuous, the problem is **regression** (e.g., predict house price, stock price, age)\n",
    "    - Y can be missing, the problem is **clustering**\n",
    "- **we focus on structured data during the course series!**"
   ]
  },
  {
   "cell_type": "markdown",
   "metadata": {},
   "source": [
    "### Structured data\n",
    "| X|feature_1|feature_2|...|feature_j|...|feature_m|<font color='red'>Y</font>|\n",
    "|-|:-:|:-:|:-:|:-:|:-:|:-:|:-:|\n",
    "|__data_point_1__|x_11|x_12|...|x_1j|...|x_1m|__<font color='red'>y_1</font>__|\n",
    "|__data_point_2__|x_21|x_22|...|x_2j|...|x_2m|__<font color='red'>y_2</font>__|\n",
    "|__...__|...|...|...|...|...|...|__<font color='red'>...</font>__|\n",
    "|__data_point_i__|x_i1|x_i2|...|x_ij|...|x_im|__<font color='red'>y_i</font>__|\n",
    "|__...__|...|...|...|...|...|...|__<font color='red'>...</font>__|\n",
    "|__data_point_n__|x_n1|x_n2|...|x_nj|...|x_nm|__<font color='red'>y_n</font>__|"
   ]
  },
  {
   "cell_type": "markdown",
   "metadata": {},
   "source": [
    "### Other areas of ML\n",
    "- unsupervised ML \n",
    "   - only the feature matrix X is available, there is no target variable\n",
    "   - the goal is to find structure (clusters) in the data\n",
    "   - often used in customer segmentation\n",
    "- recommender systems\n",
    "   - recommend products to a customer based on what products similar customers enjoyed\n",
    "- reinforcement learning\n",
    "   - the learning system, called an agent, can observe the environment, select and perform actions, and get rewards and penalties in return. Goal: come up with strategy to maximize rewards\n",
    "   - often used when virtual environment is available (e.g., games like go or warcraft)\n",
    "   - sounds appealing to use in real environments (like self-driving cars) but agents learn slow, lots of cars would need to be broken to teach an agent to drive this way \n",
    "- deep learning\n",
    "   - uses neural networks and often works with unstructured data\n",
    "   - technically deep learning is supervised or unsupervised\n",
    "   - extremely successful on large datasets"
   ]
  },
  {
   "cell_type": "markdown",
   "metadata": {},
   "source": [
    "<center><img src=\"figures/shallow_vs_deep_learning.png\" width=\"500\"></center>"
   ]
  },
  {
   "cell_type": "markdown",
   "metadata": {},
   "source": [
    "# Module 2: Overview of linear and logistic regression with regularization\n",
    "### Learning objectives of this module:\n",
    "- define the mathematical model behind linear and logistic regression,\n",
    "- explain what the loss function is,\n",
    "- describe the two main types of regularization and why it is important,"
   ]
  },
  {
   "cell_type": "markdown",
   "metadata": {},
   "source": [
    "### Supervised ML algorithms: three parts\n",
    "- 1) **a mathematical model ($f$)** is used to convert the feature values into a prediction\n",
    "\n",
    "$f(X_i) = y_i'$, where $i$ is the $i$th data point in our sample. $X_i$ is a vector and $y_i'$ is a number.\n",
    "    - $f$ is your supervised ML algorithm\n",
    "    - it usually has a number of intrinsic parameters \n",
    "- 2) **an optimization algorithm** is used to determine the intrinsic parameter values given the training set \n",
    "    - there are various algorithms\n",
    "    - e.g., gradient descent, backpropagation\n",
    "- 3) the optimization algorithm minimizes a metric called **the cost function**\n",
    "    - the cost function is used to determine the best intrinsic parameters of one model based on the training data"
   ]
  },
  {
   "cell_type": "markdown",
   "metadata": {},
   "source": [
    "### Linear Regression"
   ]
  },
  {
   "cell_type": "code",
   "execution_count": null,
   "metadata": {},
   "outputs": [],
   "source": [
    "# these lines are just illustration\n",
    "# no X_train or y_train are defined yet so it won't run\n",
    "from sklearn.linear_model import LinearRegression # import the model\n",
    "LinReg = Linear_Regression() # initialize a simple linear regression model \n",
    "LinReg.fit(X_train,y_train) # we will learn now what happens when you issue this line"
   ]
  },
  {
   "cell_type": "markdown",
   "metadata": {},
   "source": [
    "- This is the **mathematical model**:\n",
    "    #### <center>$f(X_i) = y_i' = \\theta_0 + X_{i1} \\theta_1 + X_{i2} \\theta_2 +$ ... $= \\theta_0 + \\sum_{j=1}^{m} \\theta_j  X_{ij} $,</center>\n",
    "where $y_i'$ is the prediction of the linear regression model and $\\theta$ are parameters.\n",
    "- The **optimization algorithm** is some form of gradient descent\n",
    "    - we won't go into detail but the basic idea is that gradient descent will find the $\\theta$ values that minimize the cost function on the training data\n",
    "- The **cost function** is MSE - mean squared error\n",
    "    #### <center>$MSE(y,y') = \\frac{1}{n}\\sum_{i=1}^{n}(y_i'-y_i)^2$</center>\n"
   ]
  },
  {
   "cell_type": "markdown",
   "metadata": {},
   "source": [
    "### Logistic Regression"
   ]
  },
  {
   "cell_type": "code",
   "execution_count": null,
   "metadata": {},
   "outputs": [],
   "source": [
    "from sklearn.linear_model import LogisticRegression\n",
    "LogReg = LogisticRegression() # initialize a simple logistic regression model\n",
    "LogReg.fit(X_train,y_train) # we will learn what happens when you issue this line in classification"
   ]
  },
  {
   "cell_type": "markdown",
   "metadata": {},
   "source": [
    "- name is misleading, logistic regression is for classification problems!\n",
    "- the model:\n",
    "\n",
    "<center>$f(X_i) = y_i' = \\frac{1}{1+e^{-z}}$, where</center>\n",
    "\n",
    "<center>$z = \\theta_0 + \\sum_{j=1}^{m} \\theta_j  x_{ij}$</center>\n",
    "\n",
    "- $f(z) = \\frac{1}{1+e^{-z}}$ is the sigmoid function which maps real values to be between 0 and 1 such that the real value 0 is mapped to 0.5. \n",
    "    - the output of a sigmoid function can be thought of as a predicted probability."
   ]
  },
  {
   "cell_type": "code",
   "execution_count": 3,
   "metadata": {},
   "outputs": [
    {
     "data": {
      "image/png": "[encoded data removed]",
      "text/plain": [
       "<Figure size 432x288 with 1 Axes>"
      ]
     },
     "metadata": {
      "needs_background": "light"
     },
     "output_type": "display_data"
    }
   ],
   "source": [
    "import numpy as np\n",
    "import matplotlib.pyplot as plt\n",
    "\n",
    "def sigmoid(z):\n",
    "    return 1/(1+np.exp(-z))\n",
    "\n",
    "z = np.linspace(-7,7,50)\n",
    "\n",
    "plt.plot(z,sigmoid(z))\n",
    "plt.xlabel('input of linear regression')\n",
    "plt.ylabel('predicted probability')\n",
    "plt.title('sigmoid transformation')\n",
    "plt.savefig('figures/sigmoid_trans.png',dpi=300)\n",
    "plt.show()"
   ]
  },
  {
   "cell_type": "markdown",
   "metadata": {},
   "source": [
    "- The **optimization algorithm** is some form of gradient descent\n",
    "- the logloss metric is used as a **cost function** in logistic regression\n",
    "\n",
    "<center>$L(\\theta) = - \\frac{1}{N}\\sum_{i=1}^{n} [y_i\\ln(y_i') + (1-y_i)\\ln(1-y_i')]$ </center>\n",
    "\n",
    "- two scenarios:\n",
    "   - y_i = 0 - left term disappears\n",
    "   - y_i = 1 - right term disappears\n",
    "- log(0) is undefined\n",
    "   - $y_i'$ is usually replaced with $\\max(\\min(y_i',1-10^{-15}),10^{-15})$ to avoid this issue\n",
    "\n",
    "**The extreme cases**\n",
    "\n",
    "- the classifier is confidently wrong\n",
    "   - $y_i' = 10^{-15}$ for points in class 1\n",
    "   - $y_i' = 1 - 10^{-15}$ for points in class 0\n",
    "<center>$logloss = -\\frac{1}{N}\\sum \\ln(10^{-15}) = -\\ln(10^{-15})$</center>\n",
    "<center> $logloss \\sim  34.5  $</center>\n",
    "\n",
    "- the classifier is correct\n",
    "   - $y_i' = 10^{-15}$ for points in class 0\n",
    "   - $y_i' = 1 - 10^{-15}$ for points in class 1\n",
    "<center>$logloss = -\\frac{1}{N}\\sum (1-0)(1-\\ln(1-10^{-15})) = 10^{-15}$ for class 0</center>\n",
    "<center>$logloss = -\\frac{1}{N}\\sum 1*\\ln(1-10^{-15}) = 10^{-15}$ for class 1</center>\n",
    "<center>$logloss \\sim 0$</center>\n",
    "\n",
    "- the logloss metric also needs to be minimized"
   ]
  },
  {
   "cell_type": "markdown",
   "metadata": {},
   "source": [
    "### Regularization\n",
    "- models tend to overfit on the training data and such models don't perform well on previously unseen points\n",
    "    - a sure sign of overfitting in linear and logistic regression is huge theta values, much larger than the typical ranges of your features and target variable\n",
    "    - overfitting means that the model fits the noise rather than the underlying structure\n",
    "        - e.g., fitting a high degree polinomial to a roughly linearly correlated set of points\n",
    "- one way to address this shortcoming of ML models is regularization\n",
    "- let's change the cost function and add a <font color='RED'>penalty term</font> for large thetas\n",
    "- **Lasso regression**: regularize using the l1 norm of theta:\n",
    "   \n",
    "<center>$L(\\theta) =$ original cost $+ \\color{red}{ \\frac{\\alpha}{m} \\sum_{j=0}^{m}|\\theta_j|}$</center>   \n",
    "   \n",
    "- **Ridge regression**: regularize using the l2 norm of theta:\n",
    "   \n",
    "<center>$L(\\theta) =$ original cost $+ \\color{red}{\\frac{\\alpha}{m} \\sum_{j=0}^{m} \\theta_j^2}$</center>\n",
    "\n",
    "- $\\alpha$ is the regularization parameter (0 or larger), it describes how much we penalize large thetas\n"
   ]
  },
  {
   "cell_type": "markdown",
   "metadata": {},
   "source": [
    "### Regulariztion in linear regression\n",
    "- the original cost function is MSE and we add the penalty term\n",
    "- **Lasso regression**: regularize using the l1 norm of theta:\n",
    "   \n",
    "<center>$L(\\theta) = \\frac{1}{n}\\sum_{i=1}^{n}[(\\theta_0 + \\sum_{j=1}^{m} \\theta_j  x_{ij}- y_i)^2] + \\color{red}{ \\frac{\\alpha}{m} \\sum_{j=0}^{m}|\\theta_j|}$</center>   \n",
    "   \n",
    "- **Ridge regression**: regularize using the l2 norm of theta:\n",
    "   \n",
    "<center>$L(\\theta) = \\frac{1}{n}\\sum_{i=1}^{n}[(\\theta_0 + \\sum_{j=1}^{m} \\theta_j  x_{ij}- y_i)^2] + \\color{red}{\\frac{\\alpha}{m} \\sum_{j=0}^{m} \\theta_j^2}$</center>\n"
   ]
  },
  {
   "cell_type": "markdown",
   "metadata": {},
   "source": [
    "### Regulariztion in logistic regression\n",
    "- the original cost is logloss and we add the penalty term\n",
    "- **Lasso regression**: regularize using the l1 norm of theta:\n",
    "\n",
    "<center>$L(\\theta) = - \\frac{1}{N}\\sum_{i=1}^{n} [y_i\\ln(\\frac{1}{1+e^{-\\theta_0 + \\sum_{j=1}^{m} \\theta_j  x_{ij}}}) + (1-y_i)\\ln(1-\\frac{1}{1+e^{-\\theta_0 + \\sum_{j=1}^{m} \\theta_j  x_{ij}}}))] + \\color{red}{ \\frac{\\alpha}{m} \\sum_{j=0}^{m}|\\theta_j|}$</center>\n",
    "\n",
    "- **Ridge regression**: regularize using the l2 norm of theta:\n",
    "\n",
    "<center>$L(\\theta) = - \\frac{1}{N}\\sum_{i=1}^{n} [y_i\\ln(\\frac{1}{1+e^{-\\theta_0 + \\sum_{j=1}^{m} \\theta_j  x_{ij}}}) + (1-y_i)\\ln(1-\\frac{1}{1+e^{-\\theta_0 + \\sum_{j=1}^{m} \\theta_j  x_{ij}}}))] + \\color{red}{\\frac{\\alpha}{m} \\sum_{j=0}^{m} \\theta_j^2}$</center>"
   ]
  },
  {
   "cell_type": "markdown",
   "metadata": {},
   "source": [
    "### Let's translate these concepts to code in the next module!"
   ]
  },
  {
   "cell_type": "markdown",
   "metadata": {},
   "source": [
    "# Module 3: The bias-variance tradeoff\n",
    "### Learning objectives of this module:\n",
    "- perform a simple train/validation/test split on IID data,\n",
    "- apply linear and logistic regression to datasets,\n",
    "- tune the regularization hyperparameter,\n",
    "- identify models with high bias and high variance,\n",
    "- select the best model and measure its performance on a previously unseen dataset, the test set.\n"
   ]
  },
  {
   "cell_type": "code",
   "execution_count": 12,
   "metadata": {},
   "outputs": [
    {
     "name": "stdout",
     "output_type": "stream",
     "text": [
      "   AGE  SEX   BMI     BP   S1     S2    S3   S4      S5  S6    Y\n",
      "0   59    2  32.1  101.0  157   93.2  38.0  4.0  4.8598  87  151\n",
      "1   48    1  21.6   87.0  183  103.2  70.0  3.0  3.8918  69   75\n",
      "2   72    2  30.5   93.0  156   93.6  41.0  4.0  4.6728  85  141\n",
      "3   24    1  25.3   84.0  198  131.4  40.0  5.0  4.8903  89  206\n",
      "4   50    1  23.0  101.0  192  125.4  52.0  4.0  4.2905  80  135\n",
      "0    151\n",
      "1     75\n",
      "2    141\n",
      "3    206\n",
      "4    135\n",
      "Name: Y, dtype: int64\n",
      "   AGE  SEX   BMI     BP   S1     S2    S3   S4      S5  S6\n",
      "0   59    2  32.1  101.0  157   93.2  38.0  4.0  4.8598  87\n",
      "1   48    1  21.6   87.0  183  103.2  70.0  3.0  3.8918  69\n",
      "2   72    2  30.5   93.0  156   93.6  41.0  4.0  4.6728  85\n",
      "3   24    1  25.3   84.0  198  131.4  40.0  5.0  4.8903  89\n",
      "4   50    1  23.0  101.0  192  125.4  52.0  4.0  4.2905  80\n"
     ]
    }
   ],
   "source": [
    "# STEP 1: read in the data\n",
    "\n",
    "# https://www4.stat.ncsu.edu/~boos/var.select/diabetes.html\n",
    "\n",
    "import pandas as pd\n",
    "df = pd.read_csv('https://www4.stat.ncsu.edu/~boos/var.select/diabetes.tab.txt',delimiter='\\t')\n",
    "print(df.head())\n",
    "\n",
    "# separate out the feature matrix and the target variable\n",
    "y = df.iloc[:,-1] # the last column is the target variable\n",
    "X = df.iloc[:,:-1] # all but the last column are the features\n",
    "print(y.head())\n",
    "print(X.head())"
   ]
  },
  {
   "cell_type": "code",
   "execution_count": 14,
   "metadata": {},
   "outputs": [
    {
     "name": "stdout",
     "output_type": "stream",
     "text": [
      "(264, 10)\n",
      "(89, 10)\n",
      "(89, 10)\n"
     ]
    }
   ],
   "source": [
    "# STEP 2: split the data\n",
    "from sklearn.model_selection import train_test_split\n",
    "\n",
    "X_other, X_test, y_other, y_test = train_test_split(X,y,test_size=0.2,random_state=42)\n",
    "X_train, X_val, y_train, y_val = train_test_split(X_other,y_other,test_size=0.25,random_state=42)\n",
    "\n",
    "# verify the results\n",
    "print(X_train.shape) # 60% for training\n",
    "print(X_val.shape) # 20% for validation\n",
    "print(X_test.shape) # 20% for testing"
   ]
  },
  {
   "cell_type": "code",
   "execution_count": 21,
   "metadata": {},
   "outputs": [
    {
     "name": "stdout",
     "output_type": "stream",
     "text": [
      "[[-0.12359848  1.02299151  0.08983103 -1.76101882 -0.23531392 -0.35997945\n",
      "   0.95089282 -0.83021551 -0.80994689 -1.84746692]\n",
      " [-1.08803196  1.02299151 -0.4880059   0.005215   -1.00153532 -0.60825165\n",
      "  -1.33863552  0.6149414   0.45783049  0.23834035]\n",
      " [ 0.76046554 -0.97752522  0.47505564  1.17435153  0.265677   -1.17189666\n",
      "  -1.41249127  1.52601858  2.78626838  0.15143171]\n",
      " [ 0.11750989  1.02299151  0.01760141  0.17202995 -0.08796365 -0.33984927\n",
      "  -0.08308772 -0.04480415  0.86096188 -0.28311147]\n",
      " [ 1.40342119 -0.97752522  0.45097911  0.45840755  0.17726684  0.45864782\n",
      "  -0.7477895   0.74060721  0.47276129  0.23834035]]\n",
      "[-7.40148683e-17  1.95130107e-16  4.47453522e-16 -7.97341990e-16\n",
      " -4.02035307e-16 -7.40148683e-17  1.00929366e-17  2.85966537e-16\n",
      "  9.95836410e-16  5.98847571e-16]\n",
      "[1. 1. 1. 1. 1. 1. 1. 1. 1. 1.]\n",
      "[-0.12630757 -0.10089429  0.02977494 -0.10630333 -0.00087798 -0.02952786\n",
      "  0.01234387 -0.08928138  0.1131318  -0.16104878]\n",
      "[1.12145412 0.99258907 1.19632699 0.99169937 1.14563633 1.16321248\n",
      " 0.8710774  0.9558321  0.92872585 0.99122938]\n",
      "[ 0.11841291 -0.10089429  0.2678351   0.12402953  0.02362521  0.0144645\n",
      " -0.13578256  0.14078238  0.15862318  0.16217323]\n",
      "[1.11633279 0.99258907 1.07446849 0.93938757 0.93542065 0.91573437\n",
      " 0.88377406 1.08762285 1.05012745 0.97230724]\n"
     ]
    }
   ],
   "source": [
    "# STEP 3: preprocess the data\n",
    "from sklearn.preprocessing import StandardScaler\n",
    "\n",
    "scaler = StandardScaler() # initialize the scaler\n",
    "\n",
    "X_train_prep = scaler.fit_transform(X_train)\n",
    "X_val_prep = scaler.transform(X_val)\n",
    "X_test_prep = scaler.transform(X_test)\n",
    "\n",
    "# the _prep objects are now numpy arrays\n",
    "# let's verify that all feature means are 0 and stds are 1\n",
    "print(np.mean(X_train_prep,axis=0))\n",
    "print(np.std(X_train_prep,axis=0))\n",
    "print(np.mean(X_val_prep,axis=0)) # not exactly 0\n",
    "print(np.std(X_val_prep,axis=0)) # not exactly 1\n",
    "print(np.mean(X_test_prep,axis=0)) # not exactly 0\n",
    "print(np.std(X_test_prep,axis=0)) # not exactly 1"
   ]
  },
  {
   "cell_type": "code",
   "execution_count": 45,
   "metadata": {},
   "outputs": [
    {
     "name": "stdout",
     "output_type": "stream",
     "text": [
      "[1.00000000e-02 2.15443469e-02 4.64158883e-02 1.00000000e-01\n",
      " 2.15443469e-01 4.64158883e-01 1.00000000e+00 2.15443469e+00\n",
      " 4.64158883e+00 1.00000000e+01 2.15443469e+01 4.64158883e+01\n",
      " 1.00000000e+02]\n"
     ]
    },
    {
     "data": {
      "image/png": "[encoded data removed]",
      "text/plain": [
       "<Figure size 432x288 with 1 Axes>"
      ]
     },
     "metadata": {
      "needs_background": "light"
     },
     "output_type": "display_data"
    }
   ],
   "source": [
    "# STEP 4: \n",
    "# train linear regression models\n",
    "# tune the regularization parameter\n",
    "# calculate and visualize train and validation scores\n",
    "# select the model that performs best on the validation set\n",
    "# calculate the generalization error using the test set\n",
    "\n",
    "from sklearn.linear_model import Lasso\n",
    "from sklearn.metrics import mean_squared_error\n",
    "\n",
    "alphas = np.logspace(-2,2,13)\n",
    "print(alphas)\n",
    "\n",
    "train_scores = []\n",
    "val_scores = []\n",
    "models = []\n",
    "for alpha in alphas:\n",
    "    # initialize the model\n",
    "    linreg = Lasso(alpha=alpha)\n",
    "    # fit it to the training set\n",
    "    linreg.fit(X_train_prep,y_train)\n",
    "    # save the model\n",
    "    models.append(linreg)\n",
    "    # calculate and save train score\n",
    "    y_train_pred = linreg.predict(X_train_prep)\n",
    "    train_score = mean_squared_error(y_train,y_train_pred,squared=False)\n",
    "    train_scores.append(train_score)\n",
    "    # calculate and save val score\n",
    "    y_val_pred = linreg.predict(X_val_prep)\n",
    "    val_score = mean_squared_error(y_val,y_val_pred,squared=False)\n",
    "    val_scores.append(val_score)\n",
    "    \n",
    "# let's visualize the train and validation scores\n",
    "plt.plot(alphas,train_scores,label='train score')\n",
    "plt.plot(alphas,val_scores,label='validation score')\n",
    "plt.xlabel('regularization strength (alpha)',fontsize=13)\n",
    "plt.ylabel('RMSE',fontsize=13)\n",
    "plt.semilogx()\n",
    "plt.legend(fontsize=13)\n",
    "plt.show()"
   ]
  },
  {
   "cell_type": "markdown",
   "metadata": {},
   "source": [
    "### The bias-variance tradeoff\n",
    "- high alpha (strong regularization):\n",
    "    - the model is too simple\n",
    "    - it performs poorly on both the training and validation sets (RMSEs are large)\n",
    "    - high bias or low variance model\n",
    "- low alpha (weak regularization)\n",
    "    - the model is too complex\n",
    "    - it performs very well on the training set but it performs comparatively poorly on the validation set\n",
    "    - low bias or high variance model\n",
    "- we are looking for the sweet spot in between\n",
    "    - if your evaluation metric needs to be minimized (e.g., MSE, RMSE, logloss)\n",
    "        - select the alpha with the smallest validation score\n",
    "        - the corresponding model is the best\n",
    "    - if your evaluation metric needs to be maximized (e.g., accuracy, R2)\n",
    "        - select the alpha with the largest validation score\n",
    "        - the corresponding model is the best"
   ]
  },
  {
   "cell_type": "markdown",
   "metadata": {},
   "source": [
    "### Let's select the best model and calculate the generalization error"
   ]
  },
  {
   "cell_type": "code",
   "execution_count": 49,
   "metadata": {},
   "outputs": [
    {
     "name": "stdout",
     "output_type": "stream",
     "text": [
      "best alpha: 4.6415888336127775\n",
      "best validation score: 57.650293761307246\n",
      "the generalization error: 57.74327755781498\n"
     ]
    }
   ],
   "source": [
    "indx = np.argmin(val_scores)\n",
    "print('best alpha:',alphas[indx]) # the best alpha value\n",
    "print('best validation score:',val_scores[indx]) # the validation score\n",
    "final_model = models[indx] # pull out the best model\n",
    "y_test_pred = final_model.predict(X_test_prep)\n",
    "gen_error = mean_squared_error(y_test,y_test_pred,squared=False)\n",
    "print('the generalization error:',gen_error) # the error we expect from the model on previously unseen data"
   ]
  },
  {
   "cell_type": "markdown",
   "metadata": {},
   "source": [
    "### Things we ignored but will cover in later courses\n",
    "- uncertainty due to splitting\n",
    "    - different random states in train_test_split place different points in train/val/test\n",
    "    - the random splitting of points introduces an uncertainty in the train/val/test scores and the best alpha values too\n",
    "    - redo the whole pipeline with a couple of different random states to measure the uncertainty of generalization\n",
    "- splitting\n",
    "    - simple IID datasets like this are rare\n",
    "    - part 2 covers more interesting splitting strategies\n",
    "- preprocessing\n",
    "    - this dataset is simple, all features are already numerical so preprocessing was easy (one standard scaler)\n",
    "    - part 2 deals with more complex preprocessing pipelines\n",
    "- more complex models have more than one hyperparameters to tune\n",
    "    - nested for loops should be avoided\n",
    "    - sklearn has excellent tools to do hyperparameter tuning over an arbitrary number of parameters\n",
    "    - we cover this in part 4\n",
    "- interpretability\n",
    "    - predictions are often not enough!\n",
    "    - you need to be able to explain how the model works and how it makes predictions\n",
    "    - the doctor needs to be able to explain to the patient what factors influence the predicted disease progression in general but also for that patient in particular\n",
    "    - part 6 covers this in detail"
   ]
  },
  {
   "cell_type": "code",
   "execution_count": null,
   "metadata": {},
   "outputs": [],
   "source": []
  }
 ],
 "metadata": {
  "kernelspec": {
   "display_name": "Python 3",
   "language": "python",
   "name": "python3"
  },
  "language_info": {
   "codemirror_mode": {
    "name": "ipython",
    "version": 3
   },
   "file_extension": ".py",
   "mimetype": "text/x-python",
   "name": "python",
   "nbconvert_exporter": "python",
   "pygments_lexer": "ipython3",
   "version": "3.7.6"
  }
 },
 "nbformat": 4,
 "nbformat_minor": 4
}
