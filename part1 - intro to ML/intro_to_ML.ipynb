{
 "cells": [
  {
   "cell_type": "markdown",
   "metadata": {},
   "source": [
    "# <center>Welcome to Supervised Learning</center>\n",
    "## <center>Part 1: Introduction to machine learning and the bias-variance tradeoff</center>\n",
    "## <center>Instructor: Andras Zsom</center>"
   ]
  },
  {
   "cell_type": "markdown",
   "metadata": {},
   "source": [
    "## The topic of the course series: supervised Machine Learning (ML)\n",
    "- how to build an ML pipeline from beginning to deployment\n",
    "- we assume you already performed data cleaning\n",
    "- this is the first course out of 6 courses\n",
    "    - **Part 1: Introduction to machine learning and the bias-variance tradeoff**\n",
    "    - Part 2: How to prepare your data for supervised machine learning\n",
    "    - Part 3: Evaluation metrics in supervised machine learning\n",
    "    - Part 4: SVMs, Random Forests, XGBoost\n",
    "    - Part 5: Missing data in supervised ML\n",
    "    - Part 6: Interpretability\n",
    "- you can complete the courses in sequence or complete individual courses based on your interest"
   ]
  },
  {
   "cell_type": "markdown",
   "metadata": {},
   "source": [
    "## Tools\n",
    "- we use python\n",
    "    - pros: easy to use for a beginner programmer\n",
    "    - cons: it is very difficult to write computationally efficient code\n",
    "    - the divide between users and developers of python packages are wide\n",
    "- packages we use: sklearn, pandas, numpy, matplotlib, XGBoost, SHAP\n",
    "- if you are a python user, you need to know exactly what you are doing\n",
    "    - carefully read the manual, work through the examples, test every line of code you write\n",
    "        - good test of your understanding: could I write the function/method myself if I had to?\n",
    "    - do not assume your code works, always test everything\n",
    "    - there are two types of errors:\n",
    "        - one that gives an error message\n",
    "            - usually easy to fix\n",
    "            - the error message tells you in which line the error occurs\n",
    "            - read and understand the error message\n",
    "            - if it's not obvious what the error is, read more on it on stackoverflow for example\n",
    "        - sneaky errors without error message\n",
    "            - these are tough!\n",
    "            - your code runs and it gives some output but something is off\n",
    "            - just staring at the code won't reveal the bug\n",
    "            - print print print or use a debugger\n",
    "            - check every line of code, trace issues through the code\n",
    "    - to reduce the number of errors/bugs, do test-driven code development\n",
    "        - first think about what the output of a function call/cell/piece of a piece of code should be\n",
    "        - only then write the code\n",
    "        - check if you got the expected output"
   ]
  },
  {
   "cell_type": "markdown",
   "metadata": {},
   "source": [
    "### Learning objectives of this course\n",
    "\n",
    "By the end of the course, you will be able to\n",
    "- describe how a task like spam filtering can be solved with explicit coding instructions vs. a machine learning algorithm that learns from examples (training data),\n",
    "- summarize the similarities and differences between supervised and unsupervised ML,\n",
    "- list the pros and cons of supervised machine learning,\n",
    "- define the mathematical model behind linear and logistic regression,\n",
    "- explain what the loss function is,\n",
    "- describe the two main types of regularization and why it is important,\n",
    "- perform a simple train/validation/test split on IID data,\n",
    "- apply linear and logistic regression to datasets,\n",
    "- tune the regularization hyperparameter,\n",
    "- identify models with high bias and high variance,\n",
    "- select the best model and measure its performance on a previously unseen dataset, the test set.\n"
   ]
  },
  {
   "cell_type": "markdown",
   "metadata": {},
   "source": [
    "# Module 1: Intro to Machine Learning\n",
    "### Learning objectives of this module:\n",
    "- describe how a task like spam filtering can be solved with explicit coding instructions vs. a machine learning algorithm that learns from examples (training data),\n",
    "- summarize the similarities and differences between supervised and unsupervised ML,\n",
    "- list the pros and cons of supervised machine learning,"
   ]
  },
  {
   "cell_type": "markdown",
   "metadata": {},
   "source": [
    "### Supervised ML\n",
    "\n",
    "- supervised ML is probably the most successful area in ML (based on economic value created)\n",
    "    - **online advertising**: given an ad and user info, will the user click on the ad?\n",
    "    - **real estate**: given home features, can we predict the house price?\n",
    "    - **finance**: given an applicant and a finalcial product (e.g., a loan), will this applicant be able to successfully pay back the loan?\n",
    "    - **health care**: given a patient, symptoms, and maybe test results, can we predict the illness? \n",
    "    - ...\n",
    "- supervised ML pros:\n",
    "    - **automation**: computers perform calculations faster than humans (and computers are cheaper)\n",
    "    - **learn from examples**: no need to explicitly tell the computer what to do. the computer figures out what to do based on examples (data)\n",
    "- supervised ML con:\n",
    "    - it can be difficult or labor-intensive to collect training data\n",
    "    - there is no guarantee that you will be able to develop an accurate model based on the data you have"
   ]
  },
  {
   "cell_type": "markdown",
   "metadata": {},
   "source": [
    "### Example: spam filters\n",
    "- Traditional coding pipeline with explicit instructions\n",
    "\n",
    "<center><img src=\"figures/traditional_pipeline.png\" width=\"600\"></center>"
   ]
  },
  {
   "cell_type": "markdown",
   "metadata": {},
   "source": [
    "### Example: spam filters\n",
    "- ML pipeline\n",
    "\n",
    "<center><img src=\"figures/ML_pipeline.png\" width=\"600\"></center>"
   ]
  },
  {
   "cell_type": "markdown",
   "metadata": {},
   "source": [
    "- the data: feature matrix (X) and target variable (Y)\n",
    "    - X can be structured (tabular data most commonly stored in excel and csv files or SQL databases)\n",
    "    - X can be unstructured (e.g., images, text, voice recording, video)\n",
    "    - Y can be categorical, the problem is **classification** (e.g., click or not click on an ad, sick or not sick)\n",
    "    - Y can be continuous, the problem is **regression** (e.g., predict house price, stock price, age)\n",
    "    - Y can be missing, the problem is **clustering**\n",
    "- **we focus on structured data during the course series!**"
   ]
  },
  {
   "cell_type": "markdown",
   "metadata": {},
   "source": [
    "### Structured data\n",
    "| X|feature_1|feature_2|...|feature_j|...|feature_m|<font color='red'>Y</font>|\n",
    "|-|:-:|:-:|:-:|:-:|:-:|:-:|:-:|\n",
    "|__data_point_1__|x_11|x_12|...|x_1j|...|x_1m|__<font color='red'>y_1</font>__|\n",
    "|__data_point_2__|x_21|x_22|...|x_2j|...|x_2m|__<font color='red'>y_2</font>__|\n",
    "|__...__|...|...|...|...|...|...|__<font color='red'>...</font>__|\n",
    "|__data_point_i__|x_i1|x_i2|...|x_ij|...|x_im|__<font color='red'>y_i</font>__|\n",
    "|__...__|...|...|...|...|...|...|__<font color='red'>...</font>__|\n",
    "|__data_point_n__|x_n1|x_n2|...|x_nj|...|x_nm|__<font color='red'>y_n</font>__|"
   ]
  },
  {
   "cell_type": "markdown",
   "metadata": {},
   "source": [
    "### Other areas of ML\n",
    "- unsupervised ML \n",
    "   - only the feature matrix X is available, there is no target variable\n",
    "   - the goal is to find structure (clusters) in the data\n",
    "   - often used in customer segmentation\n",
    "- recommender systems\n",
    "   - recommend products to a customer based on what products similar customers enjoyed\n",
    "- reinforcement learning\n",
    "   - the learning system, called an agent, can observe the environment, select and perform actions, and get rewards and penalties in return. Goal: come up with strategy to maximize rewards\n",
    "   - often used when virtual environment is available (e.g., games like go or warcraft)\n",
    "   - sounds appealing to use in real environments (like self-driving cars) but agents learn slow, lots of cars would need to be broken to teach an agent to drive this way \n",
    "- deep learning\n",
    "   - uses neural networks and often works with unstructured data\n",
    "   - technically deep learning is supervised or unsupervised\n",
    "   - extremely successful on large datasets"
   ]
  },
  {
   "cell_type": "markdown",
   "metadata": {},
   "source": [
    "<center><img src=\"figures/shallow_vs_deep_learning.png\" width=\"500\"></center>"
   ]
  },
  {
   "cell_type": "markdown",
   "metadata": {},
   "source": [
    "# Module 2: Overview of linear and logistic regression with regularization\n",
    "### Learning objectives of this module:\n",
    "- define the mathematical model behind linear and logistic regression,\n",
    "- explain what the loss function is,\n",
    "- describe the two main types of regularization and why it is important,"
   ]
  },
  {
   "cell_type": "markdown",
   "metadata": {},
   "source": [
    "### Supervised ML algorithms: three parts\n",
    "- 1) **a mathematical model ($f$)** is used to convert the feature values into a prediction\n",
    "\n",
    "$f(X_i) = y_i'$, where $i$ is the $i$th data point in our sample. $X_i$ is a vector and $y_i'$ is a number.\n",
    "    - $f$ is your supervised ML algorithm\n",
    "    - it usually has a number of intrinsic parameters \n",
    "- 2) **an optimization algorithm** is used to determine the intrinsic parameter values given the training set \n",
    "    - there are various algorithms\n",
    "    - e.g., gradient descent, backpropagation\n",
    "- 3) the optimization algorithm minimizes a metric called **the cost function**\n",
    "    - the cost function is used to determine the best intrinsic parameters of one model based on the training data"
   ]
  },
  {
   "cell_type": "markdown",
   "metadata": {},
   "source": [
    "### Linear Regression"
   ]
  },
  {
   "cell_type": "code",
   "execution_count": null,
   "metadata": {},
   "outputs": [],
   "source": [
    "# these lines are just illustration\n",
    "# no X_train or y_train are defined yet so it won't run\n",
    "from sklearn.linear_model import LinearRegression # import the model\n",
    "LinReg = Linear_Regression() # initialize a simple linear regression model \n",
    "LinReg.fit(X_train,y_train) # we will learn now what happens when you issue this line"
   ]
  },
  {
   "cell_type": "markdown",
   "metadata": {},
   "source": [
    "- This is the **mathematical model**:\n",
    "    #### <center>$f(X_i) = y_i' = \\theta_0 + X_{i1} \\theta_1 + X_{i2} \\theta_2 +$ ... $= \\theta_0 + \\sum_{j=1}^{m} \\theta_j  X_{ij} $,</center>\n",
    "where $y_i'$ is the prediction of the linear regression model and $\\theta$ are parameters.\n",
    "- The **optimization algorithm** is some form of gradient descent\n",
    "    - we won't go into detail but the basic idea is that gradient descent will find the $\\theta$ values that minimize the cost function on the training data\n",
    "- The **cost function** is MSE - mean squared error\n",
    "    #### <center>$MSE(y,y') = \\frac{1}{n}\\sum_{i=1}^{n}(y_i-y_i')^2$</center>\n"
   ]
  },
  {
   "cell_type": "markdown",
   "metadata": {},
   "source": [
    "### Logistic Regression"
   ]
  },
  {
   "cell_type": "code",
   "execution_count": null,
   "metadata": {},
   "outputs": [],
   "source": [
    "from sklearn.linear_model import LogisticRegression\n",
    "LogReg = LogisticRegression() # initialize a simple logistic regression model\n",
    "LogReg.fit(X_train,y_train) # we will learn what happens when you issue this line in classification"
   ]
  },
  {
   "cell_type": "markdown",
   "metadata": {},
   "source": [
    "- name is misleading, logistic regression is for classification problems!\n",
    "- the model:\n",
    "\n",
    "<center>$f(X_i) = y_i' = \\frac{1}{1+e^{-z}}$, where</center>\n",
    "\n",
    "<center>$z = \\theta_0 + \\sum_{j=1}^{m} \\theta_j  x_{ij}$</center>\n",
    "\n",
    "- $f(z) = \\frac{1}{1+e^{-z}}$ is the sigmoid function which maps real values to be between 0 and 1 such that the real value 0 is mapped to 0.5. \n",
    "    - the output of a sigmoid function can be thought of as a predicted probability."
   ]
  },
  {
   "cell_type": "code",
   "execution_count": 3,
   "metadata": {},
   "outputs": [
    {
     "data": {
      "image/png": "[encoded data removed]",
      "text/plain": [
       "<Figure size 432x288 with 1 Axes>"
      ]
     },
     "metadata": {
      "needs_background": "light"
     },
     "output_type": "display_data"
    }
   ],
   "source": [
    "import numpy as np\n",
    "import matplotlib.pyplot as plt\n",
    "\n",
    "def sigmoid(z):\n",
    "    return 1/(1+np.exp(-z))\n",
    "\n",
    "z = np.linspace(-7,7,50)\n",
    "\n",
    "plt.plot(z,sigmoid(z))\n",
    "plt.xlabel('input of linear regression')\n",
    "plt.ylabel('predicted probability')\n",
    "plt.title('sigmoid transformation')\n",
    "plt.savefig('figures/sigmoid_trans.png',dpi=300)\n",
    "plt.show()"
   ]
  },
  {
   "cell_type": "markdown",
   "metadata": {},
   "source": [
    "- The **optimization algorithm** is some form of gradient descent\n",
    "- the logloss metric is used as a **cost function** in logistic regression\n",
    "\n",
    "<center>$L(\\theta) = - \\frac{1}{N}\\sum_{i=1}^{n} [y_i\\ln(y_i') + (1-y_i)\\ln(1-y_i')]$ </center>\n",
    "\n",
    "- two scenarios:\n",
    "   - y_i = 0 - left term disappears\n",
    "   - y_i = 1 - right term disappears\n",
    "- log(0) is undefined\n",
    "   - $y_i'$ is usually replaced with $\\max(\\min(y_i',1-10^{-15}),10^{-15})$ to avoid this issue\n",
    "\n",
    "**The extreme cases**\n",
    "\n",
    "- the classifier is confidently wrong\n",
    "   - $y_i' = 10^{-15}$ for points in class 1\n",
    "   - $y_i' = 1 - 10^{-15}$ for points in class 0\n",
    "<center>$logloss = -\\frac{1}{N}\\sum \\ln(10^{-15}) = -\\ln(10^{-15})$</center>\n",
    "<center> $logloss \\sim  34.5  $</center>\n",
    "\n",
    "- the classifier is correct\n",
    "   - $y_i' = 10^{-15}$ for points in class 0\n",
    "   - $y_i' = 1 - 10^{-15}$ for points in class 1\n",
    "<center>$logloss = -\\frac{1}{N}\\sum (1-0)(1-\\ln(1-10^{-15})) = 10^{-15}$ for class 0</center>\n",
    "<center>$logloss = -\\frac{1}{N}\\sum 1*\\ln(1-10^{-15}) = 10^{-15}$ for class 1</center>\n",
    "<center>$logloss \\sim 0$</center>\n",
    "\n",
    "- the logloss metric also needs to be minimized"
   ]
  },
  {
   "cell_type": "markdown",
   "metadata": {},
   "source": [
    "### Regularization\n",
    "- models tend to overfit on the training data and such models don't perform well on previously unseen points\n",
    "    - a sure sign of overfitting in linear and logistic regression is huge (positive or negative) theta values"
   ]
  },
  {
   "cell_type": "markdown",
   "metadata": {},
   "source": [
    "# Module 3: The bias-variance tradeoff\n",
    "### Learning objectives of this module:\n",
    "- perform a simple train/validation/test split on IID data,\n",
    "- apply linear and logistic regression to datasets,\n",
    "- tune the regularization hyperparameter,\n",
    "- identify models with high bias and high variance,\n",
    "- select the best model and measure its performance on a previously unseen dataset, the test set.\n"
   ]
  },
  {
   "cell_type": "code",
   "execution_count": null,
   "metadata": {},
   "outputs": [],
   "source": []
  }
 ],
 "metadata": {
  "kernelspec": {
   "display_name": "Python 3",
   "language": "python",
   "name": "python3"
  },
  "language_info": {
   "codemirror_mode": {
    "name": "ipython",
    "version": 3
   },
   "file_extension": ".py",
   "mimetype": "text/x-python",
   "name": "python",
   "nbconvert_exporter": "python",
   "pygments_lexer": "ipython3",
   "version": "3.7.6"
  }
 },
 "nbformat": 4,
 "nbformat_minor": 4
}
